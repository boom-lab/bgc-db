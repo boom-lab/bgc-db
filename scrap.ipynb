{
 "metadata": {
  "language_info": {
   "codemirror_mode": {
    "name": "ipython",
    "version": 3
   },
   "file_extension": ".py",
   "mimetype": "text/x-python",
   "name": "python",
   "nbconvert_exporter": "python",
   "pygments_lexer": "ipython3",
   "version": "3.9.4"
  },
  "orig_nbformat": 2,
  "kernelspec": {
   "name": "pythonjvsc74a57bd0f94d533a3e459a53fdd8df0fe865cc355fcb8177ff362f60975576486dc93bf2",
   "display_name": "Python 3.9.4 64-bit ('venv': venv)"
  },
  "metadata": {
   "interpreter": {
    "hash": "f94d533a3e459a53fdd8df0fe865cc355fcb8177ff362f60975576486dc93bf2"
   }
  }
 },
 "nbformat": 4,
 "nbformat_minor": 2,
 "cells": [
  {
   "cell_type": "code",
   "execution_count": 11,
   "metadata": {},
   "outputs": [],
   "source": [
    "import numpy as np"
   ]
  },
  {
   "cell_type": "code",
   "execution_count": 12,
   "metadata": {},
   "outputs": [
    {
     "output_type": "execute_result",
     "data": {
      "text/plain": [
       "array([ 5, 10, 20])"
      ]
     },
     "metadata": {},
     "execution_count": 12
    }
   ],
   "source": [
    "np.array([5,10,20])"
   ]
  },
  {
   "cell_type": "code",
   "execution_count": 14,
   "metadata": {},
   "outputs": [
    {
     "output_type": "execute_result",
     "data": {
      "text/plain": [
       "array([ 5, 20])"
      ]
     },
     "metadata": {},
     "execution_count": 14
    }
   ],
   "source": [
    "np.diff(np.array([5,10,30]))"
   ]
  },
  {
   "cell_type": "code",
   "execution_count": 9,
   "metadata": {},
   "outputs": [
    {
     "output_type": "execute_result",
     "data": {
      "text/plain": [
       "[5, 10]"
      ]
     },
     "metadata": {},
     "execution_count": 9
    }
   ],
   "source": [
    "l"
   ]
  },
  {
   "cell_type": "code",
   "execution_count": null,
   "metadata": {},
   "outputs": [],
   "source": [
    "i = 0\n",
    "while i < n_mean:\n",
    "    i++"
   ]
  },
  {
   "cell_type": "code",
   "execution_count": 7,
   "metadata": {},
   "outputs": [
    {
     "output_type": "stream",
     "name": "stdout",
     "text": [
      "[datetime.datetime(1970, 1, 1, 1, 0), datetime.datetime(1970, 1, 1, 2, 0), datetime.datetime(1970, 1, 1, 3, 0), datetime.datetime(1970, 1, 1, 4, 0), datetime.datetime(1970, 1, 1, 5, 0), datetime.datetime(1970, 1, 1, 6, 0), datetime.datetime(1970, 1, 1, 7, 0), datetime.datetime(1970, 1, 1, 8, 0), datetime.datetime(1970, 1, 1, 9, 0), datetime.datetime(1970, 1, 1, 10, 0), datetime.datetime(1970, 1, 1, 11, 0), datetime.datetime(1970, 1, 1, 12, 0), datetime.datetime(1970, 1, 1, 13, 0), datetime.datetime(1970, 1, 1, 14, 0), datetime.datetime(1970, 1, 1, 15, 0), datetime.datetime(1970, 1, 1, 16, 0), datetime.datetime(1970, 1, 1, 17, 0), datetime.datetime(1970, 1, 1, 18, 0), datetime.datetime(1970, 1, 1, 19, 0), datetime.datetime(1970, 1, 1, 20, 0), datetime.datetime(1970, 1, 1, 21, 0), datetime.datetime(1970, 1, 1, 22, 0), datetime.datetime(1970, 1, 1, 23, 0), datetime.datetime(1970, 1, 2, 0, 0), datetime.datetime(1970, 1, 2, 1, 0), datetime.datetime(1970, 1, 2, 2, 0), datetime.datetime(1970, 1, 2, 3, 0), datetime.datetime(1970, 1, 2, 4, 0), datetime.datetime(1970, 1, 2, 5, 0), datetime.datetime(1970, 1, 2, 6, 0), datetime.datetime(1970, 1, 2, 7, 0), datetime.datetime(1970, 1, 2, 8, 0), datetime.datetime(1970, 1, 2, 9, 0), datetime.datetime(1970, 1, 2, 10, 0), datetime.datetime(1970, 1, 2, 11, 0), datetime.datetime(1970, 1, 2, 12, 0), datetime.datetime(1970, 1, 2, 13, 0), datetime.datetime(1970, 1, 2, 14, 0), datetime.datetime(1970, 1, 2, 15, 0), datetime.datetime(1970, 1, 2, 16, 0), datetime.datetime(1970, 1, 2, 17, 0), datetime.datetime(1970, 1, 2, 18, 0), datetime.datetime(1970, 1, 2, 19, 0), datetime.datetime(1970, 1, 2, 20, 0), datetime.datetime(1970, 1, 2, 21, 0), datetime.datetime(1970, 1, 2, 22, 0), datetime.datetime(1970, 1, 2, 23, 0), datetime.datetime(1970, 1, 3, 0, 0)]\n['0 days 01:00', '0 days 02:00', '0 days 03:00', '0 days 04:00', '0 days 05:00', '0 days 06:00', '0 days 07:00', '0 days 08:00', '0 days 09:00', '0 days 10:00', '0 days 11:00', '0 days 12:00', '0 days 13:00', '0 days 14:00', '0 days 15:00', '0 days 16:00', '0 days 17:00', '0 days 18:00', '0 days 19:00', '0 days 20:00', '0 days 21:00', '0 days 22:00', '0 days 23:00', '1 days 00:00', '1 days 01:00', '1 days 02:00', '1 days 03:00', '1 days 04:00', '1 days 05:00', '1 days 06:00', '1 days 07:00', '1 days 08:00', '1 days 09:00', '1 days 10:00', '1 days 11:00', '1 days 12:00', '1 days 13:00', '1 days 14:00', '1 days 15:00', '1 days 16:00', '1 days 17:00', '1 days 18:00', '1 days 19:00', '1 days 20:00', '1 days 21:00', '1 days 22:00', '1 days 23:00', '2 days 00:00']\n"
     ]
    }
   ],
   "source": [
    "from datetime import datetime, timedelta\n",
    "\n",
    "tickvals = []\n",
    "startdate =datetime(1970, 1, 1, 00, 00)\n",
    "enddate = datetime(1970, 1, 3, 00, 00)\n",
    "delta = timedelta(hours=1)\n",
    "\n",
    "while startdate < enddate:\n",
    "    startdate += delta\n",
    "    tickvals.append(startdate)\n",
    "\n",
    "ticktext = [str(e.day-1)+\" days \"+e.strftime('%H:%M') for e in tickvals]\n"
   ]
  },
  {
   "cell_type": "code",
   "execution_count": null,
   "metadata": {},
   "outputs": [],
   "source": []
  }
 ]
}